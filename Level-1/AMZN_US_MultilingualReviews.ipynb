{
  "nbformat": 4,
  "nbformat_minor": 0,
  "metadata": {
    "colab": {
      "name": "AMZN_US_MultilingualReviews.ipynb",
      "provenance": [],
      "collapsed_sections": []
    },
    "kernelspec": {
      "name": "python3",
      "display_name": "Python 3"
    }
  },
  "cells": [
    {
      "cell_type": "code",
      "metadata": {
        "id": "Wg2p-ikSKpSp",
        "colab_type": "code",
        "colab": {
          "base_uri": "https://localhost:8080/",
          "height": 425
        },
        "outputId": "ba5a5dc3-e174-4641-9300-bda1bb97900c"
      },
      "source": [
        "!apt-get update\n",
        "\n",
        "!apt-get install openjdk-8-jdk-headless -qq > /dev/null\n",
        "!wget -q http://www-us.apache.org/dist/spark/spark-2.4.6/spark-2.4.6-bin-hadoop2.7.tgz\n",
        "!tar xf spark-2.4.6-bin-hadoop2.7.tgz\n",
        "!pip install -q findspark\n",
        "\n",
        "import os\n",
        "os.environ[\"JAVA_HOME\"] = \"/usr/lib/jvm/java-8-openjdk-amd64\"\n",
        "os.environ[\"SPARK_HOME\"] = \"/content/spark-2.4.6-bin-hadoop2.7\"\n",
        "\n",
        "import findspark\n",
        "findspark.init()"
      ],
      "execution_count": 1,
      "outputs": [
        {
          "output_type": "stream",
          "text": [
            "\r0% [Working]\r            \rHit:1 http://ppa.launchpad.net/graphics-drivers/ppa/ubuntu bionic InRelease\n",
            "\r0% [Waiting for headers] [Connecting to security.ubuntu.com (91.189.91.39)] [Co\r                                                                               \rHit:2 http://archive.ubuntu.com/ubuntu bionic InRelease\n",
            "\r                                                                               \rGet:3 http://archive.ubuntu.com/ubuntu bionic-updates InRelease [88.7 kB]\n",
            "\r0% [3 InRelease 15.6 kB/88.7 kB 18%] [Connecting to security.ubuntu.com (91.189\r0% [1 InRelease gpgv 21.3 kB] [3 InRelease 15.6 kB/88.7 kB 18%] [Connecting to \r                                                                               \rGet:4 http://ppa.launchpad.net/marutter/c2d4u3.5/ubuntu bionic InRelease [15.4 kB]\n",
            "\r0% [1 InRelease gpgv 21.3 kB] [3 InRelease 15.6 kB/88.7 kB 18%] [Connecting to \r0% [1 InRelease gpgv 21.3 kB] [3 InRelease 15.6 kB/88.7 kB 18%] [Connecting to \r0% [1 InRelease gpgv 21.3 kB] [Waiting for headers] [Connecting to security.ubu\r                                                                               \rGet:5 http://archive.ubuntu.com/ubuntu bionic-backports InRelease [74.6 kB]\n",
            "\r0% [1 InRelease gpgv 21.3 kB] [5 InRelease 9,842 B/74.6 kB 13%] [Connecting to \r0% [1 InRelease gpgv 21.3 kB] [Waiting for headers] [Connected to cloud.r-proje\r                                                                               \rGet:6 https://cloud.r-project.org/bin/linux/ubuntu bionic-cran35/ InRelease [3,626 B]\n",
            "\r0% [1 InRelease gpgv 21.3 kB] [Waiting for headers] [6 InRelease 3,626 B/3,626 \r                                                                               \r0% [1 InRelease gpgv 21.3 kB] [Waiting for headers] [Waiting for headers]\r                                                                         \rGet:7 http://security.ubuntu.com/ubuntu bionic-security InRelease [88.7 kB]\n",
            "Ign:8 https://developer.download.nvidia.com/compute/cuda/repos/ubuntu1804/x86_64  InRelease\n",
            "Ign:9 https://developer.download.nvidia.com/compute/machine-learning/repos/ubuntu1804/x86_64  InRelease\n",
            "Get:10 https://developer.download.nvidia.com/compute/cuda/repos/ubuntu1804/x86_64  Release [697 B]\n",
            "Hit:11 https://developer.download.nvidia.com/compute/machine-learning/repos/ubuntu1804/x86_64  Release\n",
            "Get:12 https://developer.download.nvidia.com/compute/cuda/repos/ubuntu1804/x86_64  Release.gpg [836 B]\n",
            "Get:13 http://ppa.launchpad.net/marutter/c2d4u3.5/ubuntu bionic/main Sources [1,856 kB]\n",
            "Get:14 http://ppa.launchpad.net/marutter/c2d4u3.5/ubuntu bionic/main amd64 Packages [895 kB]\n",
            "Get:15 http://archive.ubuntu.com/ubuntu bionic-updates/main amd64 Packages [1,334 kB]\n",
            "Get:16 http://archive.ubuntu.com/ubuntu bionic-updates/universe amd64 Packages [1,413 kB]\n",
            "Get:17 http://archive.ubuntu.com/ubuntu bionic-updates/restricted amd64 Packages [116 kB]\n",
            "Get:18 http://archive.ubuntu.com/ubuntu bionic-updates/multiverse amd64 Packages [27.1 kB]\n",
            "Ign:20 https://developer.download.nvidia.com/compute/cuda/repos/ubuntu1804/x86_64  Packages\n",
            "Get:20 https://developer.download.nvidia.com/compute/cuda/repos/ubuntu1804/x86_64  Packages [255 kB]\n",
            "Get:21 http://security.ubuntu.com/ubuntu bionic-security/universe amd64 Packages [882 kB]\n",
            "Get:22 http://security.ubuntu.com/ubuntu bionic-security/main amd64 Packages [1,037 kB]\n",
            "Fetched 8,088 kB in 2s (3,285 kB/s)\n",
            "Reading package lists... Done\n"
          ],
          "name": "stdout"
        }
      ]
    },
    {
      "cell_type": "code",
      "metadata": {
        "id": "JjZp-3x3K5Bx",
        "colab_type": "code",
        "colab": {
          "base_uri": "https://localhost:8080/",
          "height": 204
        },
        "outputId": "a78036d4-d948-4650-8c69-6d6f590005e0"
      },
      "source": [
        "!wget https://jdbc.postgresql.org/download/postgresql-42.2.9.jar"
      ],
      "execution_count": 2,
      "outputs": [
        {
          "output_type": "stream",
          "text": [
            "--2020-08-10 16:47:59--  https://jdbc.postgresql.org/download/postgresql-42.2.9.jar\n",
            "Resolving jdbc.postgresql.org (jdbc.postgresql.org)... 72.32.157.228, 2001:4800:3e1:1::228\n",
            "Connecting to jdbc.postgresql.org (jdbc.postgresql.org)|72.32.157.228|:443... connected.\n",
            "HTTP request sent, awaiting response... 200 OK\n",
            "Length: 914037 (893K) [application/java-archive]\n",
            "Saving to: ‘postgresql-42.2.9.jar’\n",
            "\n",
            "postgresql-42.2.9.j 100%[===================>] 892.61K  1.42MB/s    in 0.6s    \n",
            "\n",
            "2020-08-10 16:48:00 (1.42 MB/s) - ‘postgresql-42.2.9.jar’ saved [914037/914037]\n",
            "\n"
          ],
          "name": "stdout"
        }
      ]
    },
    {
      "cell_type": "code",
      "metadata": {
        "id": "K6a89L4XK5ST",
        "colab_type": "code",
        "colab": {}
      },
      "source": [
        "from pyspark.sql import SparkSession\n",
        "spark = SparkSession.builder.appName(\"BDETL\").config(\"spark.driver.extraClassPath\",\"/content/postgresql-42.2.9.jar\").getOrCreate()"
      ],
      "execution_count": 3,
      "outputs": []
    },
    {
      "cell_type": "code",
      "metadata": {
        "id": "6Hh5P1AEK5gX",
        "colab_type": "code",
        "colab": {
          "base_uri": "https://localhost:8080/",
          "height": 224
        },
        "outputId": "129367d3-3464-4ad3-8292-20f1bca5f40e"
      },
      "source": [
        "from pyspark import SparkFiles\n",
        "url = \"https://s3.amazonaws.com/amazon-reviews-pds/tsv/amazon_reviews_multilingual_US_v1_00.tsv.gz\"\n",
        "spark.sparkContext.addFile(url)\n",
        "\n",
        "mlrev_raw_df = spark.read.option('header', 'true').csv(SparkFiles.get(\"amazon_reviews_multilingual_US_v1_00.tsv.gz\"), inferSchema=True, sep='\\t', timestampFormat=\"mm/dd/yy\")\n",
        "mlrev_raw_df.show(5)"
      ],
      "execution_count": 4,
      "outputs": [
        {
          "output_type": "stream",
          "text": [
            "+-----------+-----------+--------------+----------+--------------+--------------------+----------------+-----------+-------------+-----------+----+-----------------+--------------------+--------------------+-------------------+\n",
            "|marketplace|customer_id|     review_id|product_id|product_parent|       product_title|product_category|star_rating|helpful_votes|total_votes|vine|verified_purchase|     review_headline|         review_body|        review_date|\n",
            "+-----------+-----------+--------------+----------+--------------+--------------------+----------------+-----------+-------------+-----------+----+-----------------+--------------------+--------------------+-------------------+\n",
            "|         US|   53096384| R63J84G1LOX6R|1563890119|     763187671|The Sandman Vol. ...|           Books|          4|            0|          1|   N|                N|ignore the review...|this is the first...|1995-08-13 00:00:00|\n",
            "|         US|   53096399|R1BALOA11Z06MT|1559947608|     381720534|The 22 Immutable ...|           Books|          4|            0|          0|   N|                N|             awesome|I've always been ...|1995-08-17 00:00:00|\n",
            "|         US|   53096332|R1LLAY5W5PZUS4|0671701800|     860650224|             Contact|           Books|          5|            1|          2|   N|                N|Read the book. It...|This is a book ab...|1995-08-30 00:00:00|\n",
            "|         US|   53096335|R3R9VTJ82FXECQ|0425132153|     624269601|          Good Omens|           Books|          5|            0|          0|   N|                N|Funniest book eve...|This is quite pos...|1995-09-11 00:00:00|\n",
            "|         US|   51747709|R1P5J3FNBWTFXY|0517122707|     161411385|A Confederacy of ...|           Books|          5|            0|          0|   N|                N|A winner that did...|The story behind ...|1995-10-17 00:00:00|\n",
            "+-----------+-----------+--------------+----------+--------------+--------------------+----------------+-----------+-------------+-----------+----+-----------------+--------------------+--------------------+-------------------+\n",
            "only showing top 5 rows\n",
            "\n"
          ],
          "name": "stdout"
        }
      ]
    },
    {
      "cell_type": "code",
      "metadata": {
        "id": "3PacZ7vbK5xT",
        "colab_type": "code",
        "colab": {
          "base_uri": "https://localhost:8080/",
          "height": 34
        },
        "outputId": "250379fe-c4da-4651-a7d6-17e41c485da8"
      },
      "source": [
        "mlrev_raw_df.count()"
      ],
      "execution_count": 5,
      "outputs": [
        {
          "output_type": "execute_result",
          "data": {
            "text/plain": [
              "6931166"
            ]
          },
          "metadata": {
            "tags": []
          },
          "execution_count": 5
        }
      ]
    },
    {
      "cell_type": "code",
      "metadata": {
        "id": "pihpZ01DK6A6",
        "colab_type": "code",
        "colab": {
          "base_uri": "https://localhost:8080/",
          "height": 204
        },
        "outputId": "ac960937-73a2-4858-9d6c-b9552b29f96a"
      },
      "source": [
        "mlreviews = mlrev_raw_df.select([\"customer_id\", \"review_id\", \"product_id\", \"product_category\", \"star_rating\", \"helpful_votes\", \"total_votes\", \"vine\", \"verified_purchase\", \"review_body\"])\n",
        "mlreviews.show(5)"
      ],
      "execution_count": 6,
      "outputs": [
        {
          "output_type": "stream",
          "text": [
            "+-----------+--------------+----------+----------------+-----------+-------------+-----------+----+-----------------+--------------------+\n",
            "|customer_id|     review_id|product_id|product_category|star_rating|helpful_votes|total_votes|vine|verified_purchase|         review_body|\n",
            "+-----------+--------------+----------+----------------+-----------+-------------+-----------+----+-----------------+--------------------+\n",
            "|   53096384| R63J84G1LOX6R|1563890119|           Books|          4|            0|          1|   N|                N|this is the first...|\n",
            "|   53096399|R1BALOA11Z06MT|1559947608|           Books|          4|            0|          0|   N|                N|I've always been ...|\n",
            "|   53096332|R1LLAY5W5PZUS4|0671701800|           Books|          5|            1|          2|   N|                N|This is a book ab...|\n",
            "|   53096335|R3R9VTJ82FXECQ|0425132153|           Books|          5|            0|          0|   N|                N|This is quite pos...|\n",
            "|   51747709|R1P5J3FNBWTFXY|0517122707|           Books|          5|            0|          0|   N|                N|The story behind ...|\n",
            "+-----------+--------------+----------+----------------+-----------+-------------+-----------+----+-----------------+--------------------+\n",
            "only showing top 5 rows\n",
            "\n"
          ],
          "name": "stdout"
        }
      ]
    },
    {
      "cell_type": "code",
      "metadata": {
        "id": "bGXRyPS5M2Cr",
        "colab_type": "code",
        "colab": {
          "base_uri": "https://localhost:8080/",
          "height": 221
        },
        "outputId": "7cebc8a0-662c-4c4b-d6ee-785521fc7512"
      },
      "source": [
        "mlreviews.printSchema()"
      ],
      "execution_count": 7,
      "outputs": [
        {
          "output_type": "stream",
          "text": [
            "root\n",
            " |-- customer_id: integer (nullable = true)\n",
            " |-- review_id: string (nullable = true)\n",
            " |-- product_id: string (nullable = true)\n",
            " |-- product_category: string (nullable = true)\n",
            " |-- star_rating: integer (nullable = true)\n",
            " |-- helpful_votes: integer (nullable = true)\n",
            " |-- total_votes: integer (nullable = true)\n",
            " |-- vine: string (nullable = true)\n",
            " |-- verified_purchase: string (nullable = true)\n",
            " |-- review_body: string (nullable = true)\n",
            "\n"
          ],
          "name": "stdout"
        }
      ]
    },
    {
      "cell_type": "code",
      "metadata": {
        "id": "zBynWrKFM2Pw",
        "colab_type": "code",
        "colab": {
          "base_uri": "https://localhost:8080/",
          "height": 204
        },
        "outputId": "4023f0d9-d292-4ef9-a246-e6ff376c458f"
      },
      "source": [
        "mlrev = mlreviews.dropDuplicates(['customer_id', 'product_id'])\n",
        "mlrev.show(5)"
      ],
      "execution_count": 8,
      "outputs": [
        {
          "output_type": "stream",
          "text": [
            "+-----------+--------------+----------+--------------------+-----------+-------------+-----------+----+-----------------+--------------------+\n",
            "|customer_id|     review_id|product_id|    product_category|star_rating|helpful_votes|total_votes|vine|verified_purchase|         review_body|\n",
            "+-----------+--------------+----------+--------------------+-----------+-------------+-----------+----+-----------------+--------------------+\n",
            "|      10902|R3PMWI3X7E3YE9|0345803507|               Books|          5|            0|          1|   N|                Y|I Really loved th...|\n",
            "|      11195|R1G3SGH52CMDNK|B00355L2TU|Digital_Video_Dow...|          5|            0|          0|   N|                Y|I recommend this ...|\n",
            "|      19112| R7K1AWEQCATEI|B000SW4DV2|Digital_Video_Dow...|          4|            0|          2|   N|                N|I give it a 4/5 i...|\n",
            "|      21572|R1IX4INXCWS29Y|B008IJT0CE|         Mobile_Apps|          5|            0|          0|   N|                Y|I really like thi...|\n",
            "|      21807|R2G29IOJM8P05Y|034580404X|               Books|          5|            0|          0|   N|                Y|These were very e...|\n",
            "+-----------+--------------+----------+--------------------+-----------+-------------+-----------+----+-----------------+--------------------+\n",
            "only showing top 5 rows\n",
            "\n"
          ],
          "name": "stdout"
        }
      ]
    },
    {
      "cell_type": "code",
      "metadata": {
        "id": "HDzgo7_iM2iq",
        "colab_type": "code",
        "colab": {
          "base_uri": "https://localhost:8080/",
          "height": 34
        },
        "outputId": "73087106-61da-4063-a5c7-b04016e680d3"
      },
      "source": [
        "mlrev.count()"
      ],
      "execution_count": 10,
      "outputs": [
        {
          "output_type": "execute_result",
          "data": {
            "text/plain": [
              "6916537"
            ]
          },
          "metadata": {
            "tags": []
          },
          "execution_count": 10
        }
      ]
    },
    {
      "cell_type": "code",
      "metadata": {
        "id": "7EF_OzXMQW6g",
        "colab_type": "code",
        "colab": {}
      },
      "source": [
        "mlrev_clean = mlrev[mlrev.star_rating.isNotNull()]\n"
      ],
      "execution_count": 12,
      "outputs": []
    },
    {
      "cell_type": "code",
      "metadata": {
        "id": "yaIMs78xQXKg",
        "colab_type": "code",
        "colab": {
          "base_uri": "https://localhost:8080/",
          "height": 34
        },
        "outputId": "b61b6192-ed83-4d8f-cf4c-d7eaead2f13a"
      },
      "source": [
        "mlrev_clean.count()"
      ],
      "execution_count": 13,
      "outputs": [
        {
          "output_type": "execute_result",
          "data": {
            "text/plain": [
              "6916536"
            ]
          },
          "metadata": {
            "tags": []
          },
          "execution_count": 13
        }
      ]
    },
    {
      "cell_type": "code",
      "metadata": {
        "id": "AmYkElT4QXdJ",
        "colab_type": "code",
        "colab": {
          "base_uri": "https://localhost:8080/",
          "height": 34
        },
        "outputId": "d1d2c7df-718b-48d9-d173-116fa24db68e"
      },
      "source": [
        "mlrev_fin = mlrev_clean[mlrev_clean.verified_purchase.isNotNull()]\n",
        "mlrev_fin.count()"
      ],
      "execution_count": 14,
      "outputs": [
        {
          "output_type": "execute_result",
          "data": {
            "text/plain": [
              "6916536"
            ]
          },
          "metadata": {
            "tags": []
          },
          "execution_count": 14
        }
      ]
    },
    {
      "cell_type": "code",
      "metadata": {
        "id": "tCWTxOaVM2xR",
        "colab_type": "code",
        "colab": {}
      },
      "source": [
        "# removed user and password for submission\n",
        "mode = \"append\"\n",
        "dburl = \"jdbc:postgresql://bigdatachallenge.cub7v34eyvgl.us-east-2.rds.amazonaws.com:5432/bigdatachallenge\"\n",
        "config = {\"user\":\"\",\n",
        "          \"password\":\"\",\n",
        "          \"driver\":\"org.postgresql.Driver\"}"
      ],
      "execution_count": 19,
      "outputs": []
    },
    {
      "cell_type": "code",
      "metadata": {
        "id": "LbQ_OV4eM3HI",
        "colab_type": "code",
        "colab": {}
      },
      "source": [
        "mlrev_fin.write.jdbc(url=dburl, table='multilingual_reviews', mode=mode, properties=config)"
      ],
      "execution_count": 20,
      "outputs": []
    }
  ]
}